{
 "cells": [
  {
   "cell_type": "markdown",
   "metadata": {},
   "source": [
    "# 画像を水増しする\n",
    "---\n",
    "### 利用バージョン\n",
    "python 3\n",
    "\n",
    "## 概要\n",
    "ここでは、\n",
    "* 各画像、コピーして複製する回数を変数に設定します。\n",
    "* 同じファイルをコピーして画像ファイルを水増しします。\n",
    "\n",
    "といった事をします。"
   ]
  },
  {
   "cell_type": "markdown",
   "metadata": {},
   "source": [
    "## 変数定義\n",
    "* 画像ファイルのコピー回数をDUPLICATE_FILEに設定します。"
   ]
  },
  {
   "cell_type": "code",
   "execution_count": 1,
   "metadata": {
    "collapsed": true
   },
   "outputs": [],
   "source": [
    "DUPLICATE_FILE = 20"
   ]
  },
  {
   "cell_type": "markdown",
   "metadata": {},
   "source": [
    "## コピー実行\n",
    "以下のセルを実行すると、次の２つの結果が得られます。\n",
    "* dataset/03_duplicatePictに、コピーして水増しした画像ファイルを格納します。\n",
    "* dataset/03_duplicate_pict_anser.csvに、水増しした画像ファイル名と好き(1)or嫌い(0)の一覧が出力されます。"
   ]
  },
  {
   "cell_type": "code",
   "execution_count": 2,
   "metadata": {
    "scrolled": true
   },
   "outputs": [
    {
     "name": "stdout",
     "output_type": "stream",
     "text": [
      "水増し後の全ファイル数:2400\n"
     ]
    }
   ],
   "source": [
    "# -*- coding:utf-8 -*-\n",
    "import pandas as pd\n",
    "from PIL import Image\n",
    "from glob import glob\n",
    "import random\n",
    "import os\n",
    "import shutil\n",
    "import pandas as pd\n",
    "import numpy as np\n",
    "\n",
    "#特定フォルダ配下にあるファイルを全削除する関数\n",
    "def remove_dir_and_file(top):\n",
    "    for root, dirs, files in os.walk(top, topdown=False):\n",
    "        for name in files:\n",
    "            os.remove(os.path.join(root, name))\n",
    "        for name in dirs:\n",
    "            os.rmdir(os.path.join(root, name))\n",
    "\n",
    "def main():\n",
    "    # 出力フォルダを格納するパス指定＆対象ディレクトリ配下にあるファイルを全削除\n",
    "    outfilePath = os.path.join(u'dataset', u'03_duplicatePict')\n",
    "    remove_dir_and_file(outfilePath)\n",
    "\n",
    "    # 画像ファイルと好き(1) or 嫌い(0)のリストをデータフレームに読み込み\n",
    "    df_pictAnser = pd.read_csv(os.path.join(u'dataset', u'02_resize_pict_anser.csv'), names=[u'pictFileName', 'anser'], sep=' ')\n",
    "\n",
    "    # 出力する画像ファイルと好き or 嫌い　のリストを格納するデータフレーム用意\n",
    "    df_duplicatePictAnser = pd.DataFrame(columns=df_pictAnser.columns)\n",
    "\n",
    "    for key, row in df_pictAnser.iterrows():\n",
    "        infilePathName = row[u'pictFileName']\n",
    "        fileName = os.path.basename(infilePathName)\n",
    "        fi, ext = os.path.splitext(fileName)\n",
    "\n",
    "        # DUPLICATE_FILE数分ファイルを複製する\n",
    "        for i in range(DUPLICATE_FILE):\n",
    "            outfilePathName = os.path.join(outfilePath, u'{0}_{1}{2}'.format(fi, i, ext))\n",
    "            shutil.copyfile(infilePathName, outfilePathName)\n",
    "            se_tmp = pd.Series(data=[outfilePathName, row[u'anser']], index=df_duplicatePictAnser.columns)\n",
    "            df_duplicatePictAnser = df_duplicatePictAnser.append(se_tmp, ignore_index=True)\n",
    "\n",
    "    # リサイズ後の画像ファイル名と好き(1)or 嫌い(0)　の一覧を出力する。\n",
    "    df_duplicatePictAnser = df_duplicatePictAnser.reindex(np.random.permutation(df_duplicatePictAnser.index))\n",
    "    df_duplicatePictAnser.to_csv(os.path.join(u'dataset', '03_duplicate_pict_anser.csv'), index=None, header=None, sep= ' ')\n",
    "\n",
    "    print (u'水増し後の全ファイル数:{}'.format(len(os.listdir(outfilePath))))\n",
    "    \n",
    "if __name__ == '__main__':\n",
    "    main()"
   ]
  }
 ],
 "metadata": {
  "kernelspec": {
   "display_name": "Python 3",
   "language": "python",
   "name": "python3"
  },
  "language_info": {
   "codemirror_mode": {
    "name": "ipython",
    "version": 3
   },
   "file_extension": ".py",
   "mimetype": "text/x-python",
   "name": "python",
   "nbconvert_exporter": "python",
   "pygments_lexer": "ipython3",
   "version": "3.6.1"
  },
  "toc": {
   "colors": {
    "hover_highlight": "#DAA520",
    "running_highlight": "#FF0000",
    "selected_highlight": "#FFD700"
   },
   "moveMenuLeft": true,
   "nav_menu": {
    "height": "12px",
    "width": "252px"
   },
   "navigate_menu": true,
   "number_sections": true,
   "sideBar": true,
   "threshold": 4,
   "toc_cell": false,
   "toc_section_display": "block",
   "toc_window_display": false,
   "widenNotebook": false
  }
 },
 "nbformat": 4,
 "nbformat_minor": 2
}
