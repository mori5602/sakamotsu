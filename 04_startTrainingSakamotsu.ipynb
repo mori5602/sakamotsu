{
 "cells": [
  {
   "cell_type": "markdown",
   "metadata": {},
   "source": [
    "# 学習開始\n",
    "---\n",
    "### 利用バージョン\n",
    "python 2 (python 3にしたかったけど、色々環境設定しないといけなさそうなので・・)\n",
    "\n",
    "## 概要\n",
    "ここでは、\n",
    "* GPUの使用有無、バッチサイズ、繰り返し回数を指定します。\n",
    "* 実際にAIに学習させます。\n",
    "* 学習ログ確認\n",
    "* 繰り返し学習をするための.pyファイル作成\n",
    "\n",
    "といった事をします。"
   ]
  },
  {
   "cell_type": "markdown",
   "metadata": {},
   "source": [
    "## 変数定義\n",
    "* GPUを使う場合は0を、使わない場合は-1をgpu_id設定します。\n",
    "* パラメータ更新する頻度(多分・・・）をbatchsizeに指定します。\n",
    "* 何回繰り返して終了するかをmax_epochに指定します。"
   ]
  },
  {
   "cell_type": "code",
   "execution_count": 1,
   "metadata": {
    "collapsed": true
   },
   "outputs": [],
   "source": [
    "gpu_id = 0\n",
    "batchsize = 500\n",
    "max_epoch = 20"
   ]
  },
  {
   "cell_type": "markdown",
   "metadata": {},
   "source": [
    "## 学習スタート\n",
    "私も中途半端な理解ではありますが、ここからはちょっと細かく説明します。"
   ]
  },
  {
   "cell_type": "code",
   "execution_count": 7,
   "metadata": {},
   "outputs": [
    {
     "name": "stdout",
     "output_type": "stream",
     "text": [
      "epoch       main/loss   main/accuracy  validation/main/loss  validation/main/accuracy  elapsed_time\n",
      "\u001b[J1           2.01783     0.5395         1.16159               0                         3.05489       \n",
      "\u001b[J2           1.57371     0.5            0.702801              0                         11.7868       \n",
      "\u001b[J3           0.690211    0.625          0.708669              0                         20.5183       \n",
      "\u001b[J4           0.688681    0.6265         0.71525               0                         29.2846       \n",
      "\u001b[J5           0.688086    0.613          0.719449              0                         38.0382       \n",
      "\u001b[J6           0.685114    0.6435         0.727616              0                         46.8265       \n",
      "\u001b[J7           0.686194    0.608          0.729369              0                         54.9505       \n",
      "\u001b[J8           0.683345    0.6325         0.746942              0                         63.7015       \n",
      "\u001b[J9           0.681946    0.6245         0.785712              0                         72.4344       \n",
      "\u001b[J10          0.679817    0.6185         0.81058               0                         81.1844       \n",
      "\u001b[J11          0.67334     0.6345         0.861237              0                         89.9406       \n",
      "\u001b[J12          0.67417     0.621          0.856738              0                         98.8031       \n",
      "\u001b[J13          0.670491    0.618667       0.842989              0                         106.942       \n",
      "\u001b[J14          0.663996    0.6275         0.850557              0                         115.676       \n",
      "\u001b[J15          0.656462    0.627          0.830361              0                         124.413       \n",
      "\u001b[J16          0.655481    0.622          0.797311              0                         133.27        \n",
      "\u001b[J17          0.660772    0.624          0.787516              0                         142.168       \n",
      "\u001b[J18          0.638326    0.633          1.16435               0                         150.902       \n",
      "\u001b[J19          0.656703    0.617333       1.02371               0                         159.034       \n",
      "\u001b[J20          0.638315    0.627          1.37643               0                         167.79        \n"
     ]
    }
   ],
   "source": [
    "from PIL import Image\n",
    "from glob import glob\n",
    "import os\n",
    "import numpy as np\n",
    "import pandas as pd\n",
    "import chainer\n",
    "from chainer import datasets\n",
    "from chainer import iterators\n",
    "import chainer.links as L\n",
    "import chainer.functions as F\n",
    "from chainer import optimizers\n",
    "from chainer import training\n",
    "from chainer.training import extensions\n",
    "from chainer import serializers\n",
    "\n",
    "\n",
    "#特定フォルダ配下にあるファイルを全削除する関数\n",
    "def remove_dir_and_file(top):\n",
    "    for root, dirs, files in os.walk(top, topdown=False):\n",
    "        for name in files:\n",
    "            os.remove(os.path.join(root, name))\n",
    "        for name in dirs:\n",
    "            os.rmdir(os.path.join(root, name))\n",
    "\n",
    "def transform(data):\n",
    "    img, lable = data\n",
    "    img = img / 255.\n",
    "    return img, lable\n",
    "\n",
    "# AIのモデル定義\n",
    "class MLP(chainer.Chain):\n",
    "\n",
    "    def __init__(self, n_mid_units=100, n_out=2):\n",
    "        # パラメータを持つ層の登録\n",
    "        super(MLP, self).__init__(\n",
    "            l1=L.Linear(None, n_mid_units),\n",
    "            l2=L.Linear(None, n_mid_units),\n",
    "            l3=L.Linear(None, n_out),\n",
    "        )\n",
    "\n",
    "    def __call__(self, x):\n",
    "        # データを受け取った際のforward計算を書く\n",
    "        h1 = F.relu(self.l1(x))\n",
    "        h2 = F.relu(self.l2(h1))\n",
    "        return self.l3(h2)\n",
    "\n",
    "\n",
    "def main():\n",
    "    \n",
    "    # 出力フォルダ配下のファイル全削除\n",
    "    remove_dir_and_file(u'result')\n",
    "\n",
    "    # 画像ファイル名と教師データの一覧ファイルのパス格納\n",
    "    image_files = os.path.join(u'dataset', '03_duplicate_pict_anser.csv')\n",
    "\n",
    "    # datasets.LabeledImageDatasetでいい感じにデータセットとして読み込んでくれます。\n",
    "    dataset = datasets.LabeledImageDataset(image_files)\n",
    "    #print (u'dataset')\n",
    "    #print dataset[0]\n",
    "    #print (u'---')\n",
    "    \n",
    "    # データ部を0〜1の値にする必要があるため255で割ります\n",
    "    dataset = chainer.datasets.TransformDataset(dataset, transform)\n",
    "    \n",
    "    # 8割を学習データに、2割をテストデータにします。\n",
    "    split_at = int(len(dataset) * 0.8)\n",
    "    train, test = datasets.split_dataset(dataset, split_at)\n",
    "\n",
    "    # バッチ実行か、シャッフルしてデータ使うかなどの指定\n",
    "    train_iter = iterators.SerialIterator(train, batchsize, shuffle=True)\n",
    "    test_iter = iterators.SerialIterator(test, batchsize, repeat=False, shuffle=True)\n",
    "\n",
    "    # モデルの定義。GPU使うかもここで指定。\n",
    "    # model = MLP()\n",
    "    # model.to_gpu(gpu_id)\n",
    "\n",
    "    # モデルをClassifierで包んで、ロスの計算などをモデルに含める\n",
    "    model = MLP()\n",
    "    model = L.Classifier(model)\n",
    "    model.to_gpu(gpu_id)\n",
    "\n",
    "    # 最適化手法の選択\n",
    "    optimizer = optimizers.SGD()\n",
    "    optimizer.setup(model)\n",
    "\n",
    "    # UpdaterにIteratorとOptimizerを渡す\n",
    "    updater = training.StandardUpdater(train_iter, optimizer, device=gpu_id)\n",
    "\n",
    "    # TrainerにUpdaterを渡す\n",
    "    trainer = training.Trainer(updater, (max_epoch, 'epoch'), out='result')\n",
    "\n",
    "    # ログの出力方法などの定義\n",
    "    trainer.extend(extensions.LogReport())\n",
    "    trainer.extend(extensions.snapshot(filename='snapshot_epoch-{.updater.epoch}'))\n",
    "    trainer.extend(extensions.snapshot_object(model.predictor, filename='model_epoch-{.updater.epoch}'))\n",
    "    trainer.extend(extensions.Evaluator(test_iter, model, device=gpu_id))\n",
    "    trainer.extend(extensions.PrintReport(['epoch', 'main/loss', 'main/accuracy', 'validation/main/loss', 'validation/main/accuracy', 'elapsed_time']))\n",
    "    trainer.extend(extensions.PlotReport(['main/loss', 'validation/main/loss'], x_key='epoch', file_name='loss.png'))\n",
    "    trainer.extend(extensions.PlotReport(['main/accuracy', 'validation/main/accuracy'], x_key='epoch', file_name='accuracy.png'))\n",
    "    trainer.extend(extensions.dump_graph('main/loss'))\n",
    "\n",
    "    # トレーニングスタート！！\n",
    "    trainer.run()\n",
    "    \n",
    "    # 学習結果の保存\n",
    "    model.to_cpu() # CPUで計算できるようにしておく\n",
    "    serializers.save_npz(os.path.join(u'result', u'sakamotsu.model'), model)\n",
    "    \n",
    "if __name__ == '__main__':\n",
    "    main()"
   ]
  },
  {
   "cell_type": "markdown",
   "metadata": {},
   "source": [
    "## 学習ログの表示"
   ]
  },
  {
   "cell_type": "code",
   "execution_count": 9,
   "metadata": {
    "scrolled": false
   },
   "outputs": [
    {
     "data": {
      "image/png": "[encoded data removed]",
      "text/plain": [
       "<IPython.core.display.Image object>"
      ]
     },
     "execution_count": 9,
     "metadata": {},
     "output_type": "execute_result"
    }
   ],
   "source": [
    "from IPython.display import Image\n",
    "Image(filename=os.path.join(u'result', u'loss.png'))"
   ]
  },
  {
   "cell_type": "code",
   "execution_count": 10,
   "metadata": {
    "scrolled": true
   },
   "outputs": [
    {
     "data": {
      "image/png": "[encoded data removed]",
      "text/plain": [
       "<IPython.core.display.Image object>"
      ]
     },
     "execution_count": 10,
     "metadata": {},
     "output_type": "execute_result"
    }
   ],
   "source": [
    "Image(filename=os.path.join(u'result', u'accuracy.png'))"
   ]
  },
  {
   "cell_type": "code",
   "execution_count": 8,
   "metadata": {},
   "outputs": [
    {
     "name": "stdout",
     "output_type": "stream",
     "text": [
      "-rw-r--r-- 1 moriyama moriyama 69656430  3月  5 10:12 result/sakamotsu.model\r\n"
     ]
    }
   ],
   "source": [
    "# ちゃんと保存されていることを確認\n",
    "%ls -la result/sakamotsu.model"
   ]
  },
  {
   "cell_type": "markdown",
   "metadata": {},
   "source": [
    "## pyファイルの作成"
   ]
  },
  {
   "cell_type": "code",
   "execution_count": null,
   "metadata": {
    "collapsed": true
   },
   "outputs": [],
   "source": [
    "import subprocess\n",
    "subprocess.call(['jupyter', 'nbconvert', '--to', 'python', '04_startTrainingSakamotsu.ipynb'])\n",
    "%ls -la 04_startTrainingSakamotsu.py"
   ]
  }
 ],
 "metadata": {
  "kernelspec": {
   "display_name": "Python 2",
   "language": "python",
   "name": "python2"
  },
  "language_info": {
   "codemirror_mode": {
    "name": "ipython",
    "version": 2
   },
   "file_extension": ".py",
   "mimetype": "text/x-python",
   "name": "python",
   "nbconvert_exporter": "python",
   "pygments_lexer": "ipython2",
   "version": "2.7.13"
  },
  "toc": {
   "colors": {
    "hover_highlight": "#DAA520",
    "running_highlight": "#FF0000",
    "selected_highlight": "#FFD700"
   },
   "moveMenuLeft": true,
   "nav_menu": {
    "height": "12px",
    "width": "252px"
   },
   "navigate_menu": true,
   "number_sections": true,
   "sideBar": true,
   "threshold": 4,
   "toc_cell": false,
   "toc_section_display": "block",
   "toc_window_display": false,
   "widenNotebook": false
  }
 },
 "nbformat": 4,
 "nbformat_minor": 2
}
