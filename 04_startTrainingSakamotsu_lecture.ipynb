{
 "cells": [
  {
   "cell_type": "markdown",
   "metadata": {},
   "source": [
    "# 学習開始\n",
    "---\n",
    "### 利用バージョン\n",
    "python 2 (python 3にしたかったけど、色々環境設定しないといけなさそうなので・・)\n",
    "\n",
    "## 概要\n",
    "ここでは、\n",
    "* GPUの使用有無、バッチサイズ、繰り返し回数を指定します。\n",
    "* 実際にAIに学習させます。\n",
    "* 学習ログ確認\n",
    "* 繰り返し学習をするための.pyファイル作成\n",
    "\n",
    "といった事をします。"
   ]
  },
  {
   "cell_type": "markdown",
   "metadata": {},
   "source": [
    "## 変数定義\n",
    "* GPUを使う場合は0を、使わない場合は-1をgpu_id設定します。\n",
    "* パラメータ更新する頻度(多分・・・）をbatchsizeに指定します。\n",
    "* 何回繰り返して終了するかをmax_epochに指定します。"
   ]
  },
  {
   "cell_type": "code",
   "execution_count": 1,
   "metadata": {
    "collapsed": true
   },
   "outputs": [],
   "source": [
    "gpu_id = 0\n",
    "unit_size = 200\n",
    "batchsize = 500\n",
    "max_epoch = 50"
   ]
  },
  {
   "cell_type": "markdown",
   "metadata": {},
   "source": [
    "## 学習スタート\n",
    "私も中途半端な理解ではありますが、ここからはちょっと細かく説明します。"
   ]
  },
  {
   "cell_type": "markdown",
   "metadata": {},
   "source": [
    "### 出力フォルダのファイル削除\n",
    "まずはchainerの各種ファイルの出力先のフォルダ(result)配下にあるファイルを全部削除します。"
   ]
  },
  {
   "cell_type": "code",
   "execution_count": 2,
   "metadata": {
    "collapsed": true
   },
   "outputs": [],
   "source": [
    "import os\n",
    "\n",
    "# 出力フォルダ配下のファイル全削除の関数\n",
    "def remove_dir_and_file(top):\n",
    "    for root, dirs, files in os.walk(top, topdown=False):\n",
    "        for name in files:\n",
    "            os.remove(os.path.join(root, name))\n",
    "        for name in dirs:\n",
    "            os.rmdir(os.path.join(root, name))\n",
    "\n",
    "remove_dir_and_file(u'result')"
   ]
  },
  {
   "cell_type": "markdown",
   "metadata": {},
   "source": [
    "### 画像ファイルのパスと教師データ一覧読み込み\n",
    "次に、画像ファイル名(パス付き)と好き(1) or 嫌い(0)の教師データ一覧情報を読み込みます。"
   ]
  },
  {
   "cell_type": "code",
   "execution_count": 3,
   "metadata": {
    "scrolled": false
   },
   "outputs": [
    {
     "data": {
      "text/html": [
       "<div>\n",
       "<table border=\"1\" class=\"dataframe\">\n",
       "  <thead>\n",
       "    <tr style=\"text-align: right;\">\n",
       "      <th></th>\n",
       "      <th>pictFileName</th>\n",
       "      <th>anser</th>\n",
       "    </tr>\n",
       "  </thead>\n",
       "  <tbody>\n",
       "    <tr>\n",
       "      <th>0</th>\n",
       "      <td>dataset/03_duplicatePict/1_56_19.jpg</td>\n",
       "      <td>1</td>\n",
       "    </tr>\n",
       "    <tr>\n",
       "      <th>1</th>\n",
       "      <td>dataset/03_duplicatePict/1_42_3.jpg</td>\n",
       "      <td>1</td>\n",
       "    </tr>\n",
       "    <tr>\n",
       "      <th>2</th>\n",
       "      <td>dataset/03_duplicatePict/1_25_19.png</td>\n",
       "      <td>1</td>\n",
       "    </tr>\n",
       "    <tr>\n",
       "      <th>3</th>\n",
       "      <td>dataset/03_duplicatePict/1_26_6.jpg</td>\n",
       "      <td>1</td>\n",
       "    </tr>\n",
       "    <tr>\n",
       "      <th>4</th>\n",
       "      <td>dataset/03_duplicatePict/1_28_5.jpg</td>\n",
       "      <td>1</td>\n",
       "    </tr>\n",
       "  </tbody>\n",
       "</table>\n",
       "</div>"
      ],
      "text/plain": [
       "                           pictFileName  anser\n",
       "0  dataset/03_duplicatePict/1_56_19.jpg      1\n",
       "1   dataset/03_duplicatePict/1_42_3.jpg      1\n",
       "2  dataset/03_duplicatePict/1_25_19.png      1\n",
       "3   dataset/03_duplicatePict/1_26_6.jpg      1\n",
       "4   dataset/03_duplicatePict/1_28_5.jpg      1"
      ]
     },
     "execution_count": 3,
     "metadata": {},
     "output_type": "execute_result"
    }
   ],
   "source": [
    "image_files = os.path.join(u'dataset', u'03_duplicate_pict_anser.csv') # 画像ファイル名と教師データの一覧ファイルのパス\n",
    "import pandas as pd\n",
    "df = pd.read_csv(image_files, names=[u'pictFileName', 'anser'], sep=' ') #　スペース区切り\n",
    "df.head()"
   ]
  },
  {
   "cell_type": "markdown",
   "metadata": {},
   "source": [
    "画像ファイルの数を数えます。"
   ]
  },
  {
   "cell_type": "code",
   "execution_count": 4,
   "metadata": {
    "scrolled": true
   },
   "outputs": [
    {
     "data": {
      "text/plain": [
       "2400"
      ]
     },
     "execution_count": 4,
     "metadata": {},
     "output_type": "execute_result"
    }
   ],
   "source": [
    "len(df)"
   ]
  },
  {
   "cell_type": "markdown",
   "metadata": {},
   "source": [
    "### データセットの準備\n",
    "datasets.LabeledImageDataset(先ほどのcsvのパス)を実行すると、chainerが扱いやすい形に画像データと教師データを読み込んでくれます"
   ]
  },
  {
   "cell_type": "code",
   "execution_count": 5,
   "metadata": {},
   "outputs": [
    {
     "data": {
      "text/plain": [
       "<chainer.datasets.image_dataset.LabeledImageDataset at 0x7f7bc7fc8650>"
      ]
     },
     "execution_count": 5,
     "metadata": {},
     "output_type": "execute_result"
    }
   ],
   "source": [
    "from chainer import datasets\n",
    "dataset = datasets.LabeledImageDataset(image_files)\n",
    "dataset"
   ]
  },
  {
   "cell_type": "markdown",
   "metadata": {},
   "source": [
    "データセットがどんなデータか確認します。まずはdatasetの件数を確認します。"
   ]
  },
  {
   "cell_type": "code",
   "execution_count": 6,
   "metadata": {},
   "outputs": [
    {
     "data": {
      "text/plain": [
       "2400"
      ]
     },
     "execution_count": 6,
     "metadata": {},
     "output_type": "execute_result"
    }
   ],
   "source": [
    "len(dataset)"
   ]
  },
  {
   "cell_type": "markdown",
   "metadata": {},
   "source": [
    "datasetの件数=画像ファイル数ということがわかりました。では、[0]を入れて1レコード目のデータを抽出してみます。"
   ]
  },
  {
   "cell_type": "code",
   "execution_count": 7,
   "metadata": {},
   "outputs": [
    {
     "data": {
      "text/plain": [
       "(array([[[ 17.,  19.,  31., ...,  36.,  35.,  28.],\n",
       "         [ 20.,  21.,  33., ...,  37.,  34.,  27.],\n",
       "         [ 23.,  26.,  39., ...,  37.,  35.,  26.],\n",
       "         ...,\n",
       "         [113., 110., 108., ..., 102., 102., 101.],\n",
       "         [123., 120., 117., ..., 109., 101., 100.],\n",
       "         [124., 120., 119., ..., 109., 101., 100.]],\n",
       " \n",
       "        [[ 39.,  38.,  49., ...,  52.,  56.,  51.],\n",
       "         [ 38.,  38.,  48., ...,  53.,  55.,  50.],\n",
       "         [ 33.,  36.,  46., ...,  52.,  54.,  49.],\n",
       "         ...,\n",
       "         [170., 167., 164., ..., 163., 163., 161.],\n",
       "         [180., 176., 173., ..., 170., 162., 161.],\n",
       "         [180., 176., 172., ..., 170., 162., 161.]],\n",
       " \n",
       "        [[  0.,   0.,   0., ...,   0.,   0.,   0.],\n",
       "         [  0.,   0.,   9., ...,   0.,   0.,   0.],\n",
       "         [  8.,  12.,  28., ...,   0.,   0.,   0.],\n",
       "         ...,\n",
       "         [  5.,   0.,   0., ...,   0.,   0.,   1.],\n",
       "         [ 13.,   7.,   2., ...,   5.,   0.,   0.],\n",
       "         [ 11.,   7.,   2., ...,   5.,   0.,   0.]]], dtype=float32),\n",
       " array(1, dtype=int32))"
      ]
     },
     "execution_count": 7,
     "metadata": {},
     "output_type": "execute_result"
    }
   ],
   "source": [
    "dataset[0]"
   ]
  },
  {
   "cell_type": "code",
   "execution_count": 8,
   "metadata": {},
   "outputs": [
    {
     "data": {
      "text/plain": [
       "tuple"
      ]
     },
     "execution_count": 8,
     "metadata": {},
     "output_type": "execute_result"
    }
   ],
   "source": [
    "type(dataset[0])"
   ]
  },
  {
   "cell_type": "markdown",
   "metadata": {},
   "source": [
    "画像データと教師データのタプル型だということが分かりました。次にdataset[0][0].shapeで画像データのサイズを見てみます。"
   ]
  },
  {
   "cell_type": "code",
   "execution_count": 9,
   "metadata": {
    "scrolled": true
   },
   "outputs": [
    {
     "data": {
      "text/plain": [
       "(3, 250, 250)"
      ]
     },
     "execution_count": 9,
     "metadata": {},
     "output_type": "execute_result"
    }
   ],
   "source": [
    "dataset[0][0].shape"
   ]
  },
  {
   "cell_type": "markdown",
   "metadata": {},
   "source": [
    "(color(r,g,b), x, y)形式で保持していることが分かりました。なお、[ここ](http://www.kumilog.net/entry/chainer-dataset)とかによると\n",
    "\n",
    ">シンプルなデータセット\n",
    ">基本的には、len()で要素数を取得できたり、[1:2]のようにスライスで要素を取得できれば、データセットとして扱うことができます。\n",
    ">\n",
    ">ということで、最もシンプルなデータセットはNumpyの配列です。\n",
    "\n",
    "> *dataset = numpy.array([1, 2, 3], dtype=numpy.float32)* \n",
    "\n",
    "とのことです。\n",
    "\n",
    "また、入力するデータはfloat32(今回は画像データ)、教師データはint32にする必要があります。\n"
   ]
  },
  {
   "cell_type": "markdown",
   "metadata": {},
   "source": [
    "### データセットの加工\n",
    "RGBの画素値はそれぞれ0〜255をとります。一方、Chainerに入れるデータは0〜1のfloat型にする必要があります。したがって255で割ることで0〜1に変換します。簡単あ変換であればchainer.datasets.TransformDataset(<データセット>, <変換する内容を書いた関数>)で変換できます。\n",
    "\n",
    "データセットは、(画像データ, 教師データ)のタプル型で保持しているため、img, label = dataで両者を分割し、imgを255で割った結果とlabelを返す関数transformを定義します。"
   ]
  },
  {
   "cell_type": "code",
   "execution_count": 10,
   "metadata": {
    "collapsed": true
   },
   "outputs": [],
   "source": [
    "import chainer\n",
    "\n",
    "def transform(data):\n",
    "    img, lable = data\n",
    "    img = img / 255.\n",
    "    return img, lable\n",
    "\n",
    "# データ部を0〜1の値にする必要があるため255で割ります\n",
    "dataset = chainer.datasets.TransformDataset(dataset, transform)"
   ]
  },
  {
   "cell_type": "markdown",
   "metadata": {},
   "source": [
    "変換したデータセットの中身をサンプルで確認します。"
   ]
  },
  {
   "cell_type": "code",
   "execution_count": 11,
   "metadata": {
    "scrolled": true
   },
   "outputs": [
    {
     "data": {
      "text/plain": [
       "(array([[[0.06666667, 0.07450981, 0.12156863, ..., 0.14117648,\n",
       "          0.13725491, 0.10980392],\n",
       "         [0.07843138, 0.08235294, 0.12941177, ..., 0.14509805,\n",
       "          0.13333334, 0.10588235],\n",
       "         [0.09019608, 0.10196079, 0.15294118, ..., 0.14509805,\n",
       "          0.13725491, 0.10196079],\n",
       "         ...,\n",
       "         [0.44313726, 0.43137255, 0.42352942, ..., 0.4       ,\n",
       "          0.4       , 0.39607844],\n",
       "         [0.48235294, 0.47058824, 0.45882353, ..., 0.42745098,\n",
       "          0.39607844, 0.39215687],\n",
       "         [0.4862745 , 0.47058824, 0.46666667, ..., 0.42745098,\n",
       "          0.39607844, 0.39215687]],\n",
       " \n",
       "        [[0.15294118, 0.14901961, 0.19215687, ..., 0.20392157,\n",
       "          0.21960784, 0.2       ],\n",
       "         [0.14901961, 0.14901961, 0.1882353 , ..., 0.20784314,\n",
       "          0.21568628, 0.19607843],\n",
       "         [0.12941177, 0.14117648, 0.18039216, ..., 0.20392157,\n",
       "          0.21176471, 0.19215687],\n",
       "         ...,\n",
       "         [0.6666667 , 0.654902  , 0.6431373 , ..., 0.6392157 ,\n",
       "          0.6392157 , 0.6313726 ],\n",
       "         [0.7058824 , 0.6901961 , 0.6784314 , ..., 0.6666667 ,\n",
       "          0.63529414, 0.6313726 ],\n",
       "         [0.7058824 , 0.6901961 , 0.6745098 , ..., 0.6666667 ,\n",
       "          0.63529414, 0.6313726 ]],\n",
       " \n",
       "        [[0.        , 0.        , 0.        , ..., 0.        ,\n",
       "          0.        , 0.        ],\n",
       "         [0.        , 0.        , 0.03529412, ..., 0.        ,\n",
       "          0.        , 0.        ],\n",
       "         [0.03137255, 0.04705882, 0.10980392, ..., 0.        ,\n",
       "          0.        , 0.        ],\n",
       "         ...,\n",
       "         [0.01960784, 0.        , 0.        , ..., 0.        ,\n",
       "          0.        , 0.00392157],\n",
       "         [0.05098039, 0.02745098, 0.00784314, ..., 0.01960784,\n",
       "          0.        , 0.        ],\n",
       "         [0.04313726, 0.02745098, 0.00784314, ..., 0.01960784,\n",
       "          0.        , 0.        ]]], dtype=float32), array(1, dtype=int32))"
      ]
     },
     "execution_count": 11,
     "metadata": {},
     "output_type": "execute_result"
    }
   ],
   "source": [
    "dataset[0]"
   ]
  },
  {
   "cell_type": "markdown",
   "metadata": {},
   "source": [
    "### トレーニングデータとテストデータと分割\n",
    "データセットをトレーニングデータとテストデータに分割し、過学習にならないようにチェックできるようにします。"
   ]
  },
  {
   "cell_type": "code",
   "execution_count": 12,
   "metadata": {
    "collapsed": true
   },
   "outputs": [],
   "source": [
    "# 8割を学習データに、2割をテストデータにします。\n",
    "split_at = int(len(dataset) * 0.8)\n",
    "train, test = datasets.split_dataset(dataset, split_at)"
   ]
  },
  {
   "cell_type": "code",
   "execution_count": 13,
   "metadata": {},
   "outputs": [
    {
     "data": {
      "text/plain": [
       "1920"
      ]
     },
     "execution_count": 13,
     "metadata": {},
     "output_type": "execute_result"
    }
   ],
   "source": [
    "len(train)"
   ]
  },
  {
   "cell_type": "code",
   "execution_count": 14,
   "metadata": {},
   "outputs": [
    {
     "data": {
      "text/plain": [
       "480"
      ]
     },
     "execution_count": 14,
     "metadata": {},
     "output_type": "execute_result"
    }
   ],
   "source": [
    "len(test)"
   ]
  },
  {
   "cell_type": "markdown",
   "metadata": {},
   "source": [
    "### イテレータにデータセットを渡す\n",
    "データセットから決まった数のデータを取り出し、それらを束ねてミニバッチを作成して返してくれるIteratorを作成しましょう。\n",
    "\n",
    "- Chainerがいくつか用意しているIteratorの一種である`SerialIterator`は、データセットの中のデータを順番に取り出してくる最もシンプルなIteratorです。\n",
    "- 引数にデータセットオブジェクトと、バッチサイズを取ります。\n",
    "- また、このとき渡したデータセットから、何周も何周もデータを繰り返し読み出す必要がある場合は`repeat`引数を`True`とし、1周が終わったらそれ以上データを取り出したくない場合はこれを`False`とします。デフォルトでは、`True`になっています。\n",
    "- `shuffle`引数に`True`を渡すと、データセットから取り出されてくるデータの順番をエポックごとにランダムに変更します。\n",
    "\n",
    "ミニバッチとはなんぞや？という方は、[ここ](http://s0sem0y.hatenablog.com/entry/2017/07/08/152859)とかが分かりやすいかも？"
   ]
  },
  {
   "cell_type": "code",
   "execution_count": 15,
   "metadata": {
    "collapsed": true
   },
   "outputs": [],
   "source": [
    "from chainer import iterators\n",
    "\n",
    "train_iter = iterators.SerialIterator(train, batchsize, shuffle=True)\n",
    "test_iter = iterators.SerialIterator(test, batchsize, repeat=False, shuffle=True)"
   ]
  },
  {
   "cell_type": "markdown",
   "metadata": {},
   "source": [
    "### トレーニング\n",
    "class MLPに人工知能のモデルの定義をします。ここでは全結合層(L.Linearが全結合の意味)のみからなる５層のネットワークを定義します。活性化関数はreluを使用します。\n",
    "\n",
    "model = MLP()で上記モデルをmodelに読み込みます。"
   ]
  },
  {
   "cell_type": "markdown",
   "metadata": {},
   "source": [
    "L.Classfierは[ここ](https://qiita.com/mitmul/items/eccf4e0a84cb784ba84a)によると、以下のようなイメージだそうです。\n",
    "\n",
    ">ここで、上で定義したモデルのオブジェクトをL.Classifierに渡して、新しいChainにしています。L.ClassifierはChainを継承したクラスで、渡されたChainをpredictorというプロパティに保存します。()アクセサでデータとラベルを渡すと、中で__call__が実行され、まず渡されたデータの方をpredictorに通し、その出力yと、データと一緒に__call__に渡されていたラベルを、コンストラクタのlossfun引数で指定されたロス関数に渡して、その出力Variableを返します。lossfunはデフォルトでsoftmax_cross_entropyに指定されています\n",
    "\n",
    "model.to_gpuでGPUを使った学習をすることが可能です。"
   ]
  },
  {
   "cell_type": "code",
   "execution_count": 16,
   "metadata": {},
   "outputs": [
    {
     "data": {
      "text/plain": [
       "<chainer.links.model.classifier.Classifier at 0x7f7bc7fa8290>"
      ]
     },
     "execution_count": 16,
     "metadata": {},
     "output_type": "execute_result"
    }
   ],
   "source": [
    "import chainer.links as L\n",
    "\n",
    "class MLP(chainer.Chain):\n",
    "\n",
    "    def __init__(self, n_mid_units=unit_size, n_out=2):\n",
    "        # パラメータを持つ層の登録\n",
    "        super(MLP, self).__init__(\n",
    "            l1=L.Linear(None, n_mid_units),\n",
    "            l2=L.Linear(None, n_mid_units),\n",
    "            l3=L.Linear(None, n_mid_units),\n",
    "            l4=L.Linear(None, n_mid_units),\n",
    "            l5=L.Linear(None, n_out),\n",
    "        )\n",
    "\n",
    "    def __call__(self, x):\n",
    "        # データを受け取った際のforward計算を書く\n",
    "        h1 = F.relu(self.l1(x))\n",
    "        h2 = F.relu(self.l2(h1))\n",
    "        h3 = F.relu(self.l3(h2))\n",
    "        h4 = F.relu(self.l4(h3))\n",
    "        return self.l5(h4)\n",
    "\n",
    "# モデルをClassifierで包んで、ロスの計算などをモデルに含める\n",
    "model = MLP()\n",
    "model = L.Classifier(model)\n",
    "model.to_gpu(gpu_id)"
   ]
  },
  {
   "cell_type": "markdown",
   "metadata": {},
   "source": [
    "### 最適化手法の選択\n",
    "Chainerのドキュメントから抜粋\n",
    ">Chainerは多くの最適化手法を提供しています。`chainer.optimizers`モジュール以下にそれらはあります。ここでは最もシンプルな勾配降下法の手法である`optimizers.SGD`を用います。Optimizerのオブジェクトには、`setup`メソッドを使ってモデル（`Chain`オブジェクト）を渡します。こうすることでOptimizerは、自身が更新すべきモデル内のパラメータを自動的にたどってくれます。\n",
    ">\n",
    ">他にもいろいろな最適化手法が手軽に試せるので、色々と試してみて結果の変化を見てみてください。例えば、下の`chainer.optimizers.SGD`のうち`SGD`の部分を`MomentumSGD`, `RMSprop`,  `Adam`などに変えて、結果の違いを見てみましょう。"
   ]
  },
  {
   "cell_type": "code",
   "execution_count": 17,
   "metadata": {
    "collapsed": true
   },
   "outputs": [],
   "source": [
    "from chainer import optimizers\n",
    "\n",
    "# 最適化手法の選択\n",
    "optimizer = optimizers.SGD()\n",
    "optimizer.setup(model)"
   ]
  },
  {
   "cell_type": "markdown",
   "metadata": {},
   "source": [
    "### Trainer, Updaterの提議\n",
    "これもChainerのドキュメントから抜粋\n",
    "\n",
    ">Trainerは学習に必要な全てのものをひとまとめにするクラスです。それは主に以下のようなものを保持します。\n",
    ">\n",
    ">- Updater\n",
    ">    - Iterator\n",
    ">        - Dataset\n",
    ">   - Optimizer\n",
    ">        - Model\n",
    ">\n",
    ">`Trainer`オブジェクトを作成するときに渡すのは基本的に`Updater`だけですが、`Updater`は中に`Iterator`と`Optimizer`を持っています。`Iterator`からはデータセットにアクセスすることができ、`Optimizer`は中でモデルへの参照を保持しているので、モデルのパラメータを更新することができます。つまり、`Updater`が内部で\n",
    ">\n",
    ">1. データセットからデータを取り出し（Iterator）\n",
    ">2. モデルに渡してロスを計算し（Model = Optimizer.target）\n",
    ">3. Optimizerを使ってモデルのパラメータを更新する（Optimizer）\n",
    ">\n",
    ">という一連の学習の主要部分を行うことができるということです。では、`Updater`オブジェクトを作成してみます。"
   ]
  },
  {
   "cell_type": "code",
   "execution_count": 18,
   "metadata": {
    "collapsed": true
   },
   "outputs": [],
   "source": [
    "from chainer import training\n",
    "\n",
    "# UpdaterにIteratorとOptimizerを渡す\n",
    "updater = training.StandardUpdater(train_iter, optimizer, device=gpu_id)\n",
    "\n",
    "# TrainerにUpdaterを渡す\n",
    "trainer = training.Trainer(updater, (max_epoch, 'epoch'), out='result')"
   ]
  },
  {
   "cell_type": "markdown",
   "metadata": {},
   "source": [
    "Trainerについて、Chainerのドキュメントからさらに抜粋\n",
    ">最後に、Trainerの設定を行います。Trainerのオブジェクトを作成する際に必須となるのは、先程作成したUpdaterオブジェクトだけですが、二番目の引数stop_triggerに学習をどのタイミングで終了するかを表す(長さ, 単位)という形のタプルを与えると、指定したタイミングで学習を自動的に終了することができます。長さには任意の整数、単位には'epoch'か'iteration'のいずれかの文字列を指定できます。stop_triggerを指定しない場合、学習は自動的には止まりません。"
   ]
  },
  {
   "cell_type": "markdown",
   "metadata": {},
   "source": [
    "### TrainerにExtensionを追加する\n",
    "これも抜粋\n",
    "\n",
    ">`Trainer`を使う利点として、\n",
    ">\n",
    ">- ログを自動的にファイルに保存（`LogReport`)\n",
    ">- ターミナルに定期的にロスなどの情報を表示（`PrintReport`）\n",
    ">- ロスを定期的にグラフで可視化して画像として保存（`PlotReport`)\n",
    ">- 定期的にモデルやOptimizerの状態を自動シリアライズ（`snapshot`/`snapshot_object`）\n",
    ">- 学習の進捗を示すプログレスバーを表示（`ProgressBar`）\n",
    ">- モデルの構造をGraphvizのdot形式で保存（`dump_graph`）\n",
    ">\n",
    ">などなどの様々な便利な機能を簡単に利用することができる点があります。これらの機能を利用するには、`Trainer`オブジェクトに対して`extend`メソッドを使って追加したい`Extension`のオブジェクトを渡してやるだけです。では実際に幾つかの`Extension`を追加してみましょう。"
   ]
  },
  {
   "cell_type": "code",
   "execution_count": 19,
   "metadata": {
    "collapsed": true
   },
   "outputs": [],
   "source": [
    "from chainer.training import extensions\n",
    "\n",
    "# ログの出力方法などの定義\n",
    "trainer.extend(extensions.LogReport())\n",
    "trainer.extend(extensions.snapshot(filename='snapshot_epoch-{.updater.epoch}'))\n",
    "trainer.extend(extensions.snapshot_object(model.predictor, filename='model_epoch-{.updater.epoch}'))\n",
    "trainer.extend(extensions.Evaluator(test_iter, model, device=gpu_id))\n",
    "trainer.extend(extensions.PrintReport(['epoch', 'main/loss', 'main/accuracy', 'validation/main/loss', 'validation/main/accuracy', 'elapsed_time']))\n",
    "trainer.extend(extensions.PlotReport(['main/loss', 'validation/main/loss'], x_key='epoch', file_name='loss.png'))\n",
    "trainer.extend(extensions.PlotReport(['main/accuracy', 'validation/main/accuracy'], x_key='epoch', file_name='accuracy.png'))\n",
    "trainer.extend(extensions.dump_graph('main/loss'))"
   ]
  },
  {
   "cell_type": "markdown",
   "metadata": {},
   "source": [
    "### `LogReport`\n",
    "\n",
    "`epoch`や`iteration`ごとの`loss`, `accuracy`などを自動的に集計し、`Trainer`の`out`引数で指定した出力ディレクトリに`log`というファイル名で保存します。\n",
    "\n",
    "### `snapshot`\n",
    "\n",
    "`Trainer`の`out`引数で指定した出力ディレクトリに`Trainer`オブジェクトを指定されたタイミング（デフォルトでは1エポックごと）に保存します。`Trainer`オブジェクトは上述のように`Updater`を持っており、この中に`Optimizer`とモデルが保持されているため、この`Extension`でスナップショットをとっておけば、学習の復帰や学習済みモデルを使った推論などが学習終了後にも可能になります。\n",
    "\n",
    "### `snapshot_object`\n",
    "\n",
    "しかし、`Trainer`ごと保存した場合、しばしば中身のモデルだけ取り出すのが面倒な場合があります。そこで、`snapshot_object`を使って指定したオブジェクト（ここでは`Classifier`で包まれたモデル）だけを、`Trainer`とは別に保存するようにします。`Classifier`は第1引数に渡された`Chain`オブジェクトを自身の`predictor`というプロパティとして保持してロスの計算を行う`Chain`であり、`Classifier`はそもそもモデル以外にパラメータを持たないので、ここでは後々学習済みモデルを推論に使うことを見越して`model.predictor`を保存対象として指定しています。\n",
    "\n",
    "### `dump_graph`\n",
    "\n",
    "指定された`Variable`オブジェクトから辿れる計算グラフをGraphvizのdot形式で保存します。保存先は`Trainer`の`out`引数で指定した出力ディレクトリです。\n",
    "\n",
    "### `Evaluator`\n",
    "\n",
    "評価用のデータセットの`Iterator`と、学習に使うモデルのオブジェクトを渡しておくことで、学習中のモデルを指定されたタイミングで評価用データセットを用いて評価します。\n",
    "\n",
    "### `PrintReport`\n",
    "\n",
    "`Reporter`によって集計された値を標準出力に出力します。このときどの値を出力するかを、リストの形で与えます。\n",
    "\n",
    "### `PlotReport`\n",
    "\n",
    "引数のリストで指定された値の変遷を`matplotlib`ライブラリを使ってグラフに描画し、出力ディレクトリに`file_name`引数で指定されたファイル名で画像として保存します。\n",
    "\n",
    "---\n",
    "\n",
    "これらの`Extension`は、ここで紹介した以外にも、例えば`trigger`によって個別に作動するタイミングを指定できるなどのいくつかのオプションを持っており、より柔軟に組み合わせることができます。詳しくは公式のドキュメントを見てください：[Trainer extensions](http://docs.chainer.org/en/latest/reference/extensions.html)。"
   ]
  },
  {
   "cell_type": "markdown",
   "metadata": {},
   "source": [
    "### 学習を開始する\n",
    "\n",
    "学習を開始するには、`Trainer`オブジェクトのメソッド`run`を呼ぶだけです。"
   ]
  },
  {
   "cell_type": "code",
   "execution_count": 20,
   "metadata": {},
   "outputs": [
    {
     "name": "stdout",
     "output_type": "stream",
     "text": [
      "epoch       main/loss   main/accuracy  validation/main/loss  validation/main/accuracy  elapsed_time\n",
      "\u001b[J1           0.758072    0.512          0.789683              0.5125                    3.96564       \n",
      "\u001b[J2           0.891206    0.4785         0.727729              0.5125                    24.0193       \n",
      "\u001b[J3           0.693856    0.508          0.68371               0.4875                    43.9745       \n",
      "\u001b[J4           0.680256    0.506          0.678006              0.4875                    58.5985       \n",
      "\u001b[J5           0.675475    0.564          0.672528              0.666667                  72.9512       \n",
      "\u001b[J6           0.666822    0.601          0.694879              0.4875                    87.4023       \n",
      "\u001b[J7           0.68986     0.494          0.684494              0.5125                    101.047       \n",
      "\u001b[J8           0.665846    0.582          0.659429              0.4875                    129.85        \n",
      "\u001b[J9           0.736675    0.477          0.686593              0.4875                    144.109       \n",
      "\u001b[J10          0.670266    0.513          0.680675              0.552083                  158.477       \n",
      "\u001b[J11          0.677741    0.556          0.665612              0.591667                  172.683       \n",
      "\u001b[J12          0.657678    0.5815         0.647048              0.739583                  191.986       \n",
      "\u001b[J13          0.687668    0.580667       0.697909              0.4875                    206.955       \n",
      "\u001b[J14          0.66293     0.6275         0.662285              0.495833                  221.196       \n",
      "\u001b[J15          0.673801    0.53           0.673107              0.489583                  235.435       \n",
      "\u001b[J16          0.673756    0.586          0.783945              0.4875                    249.783       \n",
      "\u001b[J17          0.696815    0.533          0.649508              0.74375                   264.154       \n",
      "\u001b[J18          0.653733    0.596          0.680661              0.5125                    278.388       \n",
      "\u001b[J19          0.664461    0.556667       0.628087              0.6125                    292.02        \n",
      "\u001b[J20          0.635333    0.642          0.598674              0.735417                  306.246       \n",
      "\u001b[J21          0.68488     0.5505         0.657936              0.708333                  320.797       \n",
      "\u001b[J22          0.618764    0.729          0.579889              0.78125                   335.039       \n",
      "\u001b[J23          0.596569    0.7165         0.872097              0.5125                    349.274       \n",
      "\u001b[J24          0.713818    0.552          0.608511              0.804167                  363.504       \n",
      "\u001b[J25          0.603959    0.712667       0.803189              0.4875                    377.3         \n",
      "\u001b[J26          0.662693    0.686          0.626317              0.589583                  398.39        \n",
      "\u001b[J27          0.686601    0.561          0.621098              0.704167                  412.988       \n",
      "\u001b[J28          0.610988    0.71           0.649191              0.53125                   427.282       \n",
      "\u001b[J29          0.63692     0.6565         0.650715              0.564583                  447.29        \n",
      "\u001b[J30          0.679719    0.597          0.603175              0.74375                   461.535       \n",
      "\u001b[J31          0.616186    0.7            0.581225              0.789583                  476.036       \n",
      "\u001b[J32          0.633231    0.690667       0.779384              0.4875                    489.701       \n",
      "\u001b[J33          0.658989    0.6475         0.574861              0.79375                   505.239       \n",
      "\u001b[J34          0.569358    0.7655         0.662151              0.575                     519.562       \n",
      "\u001b[J35          0.667768    0.5775         0.605796              0.754167                  533.965       \n",
      "\u001b[J36          0.597958    0.7285         0.595919              0.720833                  548.416       \n",
      "\u001b[J37          0.619833    0.6405         0.548284              0.802083                  562.697       \n",
      "\u001b[J38          0.543207    0.789333       0.843642              0.4875                    576.43        \n",
      "\u001b[J39          0.652519    0.666          0.520605              0.816667                  590.706       \n",
      "\u001b[J40          0.636465    0.728          0.755148              0.4875                    604.989       \n",
      "\u001b[J41          0.652139    0.5725         0.604937              0.647917                  624.24        \n",
      "\u001b[J42          0.589049    0.6845         0.583622              0.6875                    642.464       \n",
      "\u001b[J43          0.57495     0.732          0.573147              0.6625                    656.747       \n",
      "\u001b[J44          0.594736    0.692667       0.599429              0.820833                  670.396       \n",
      "\u001b[J45          0.560481    0.773          0.593533              0.725                     684.657       \n",
      "\u001b[J46          0.586061    0.6915         0.682537              0.539583                  698.897       \n",
      "\u001b[J47          0.59974     0.6955         0.551943              0.808333                  713.151       \n",
      "\u001b[J48          0.622826    0.7125         0.582683              0.772917                  728.574       \n",
      "\u001b[J49          0.529279    0.8265         0.475344              0.791667                  744.42        \n",
      "\u001b[J50          0.790221    0.610667       0.59608               0.872917                  758.066       \n"
     ]
    }
   ],
   "source": [
    "import chainer.functions as F\n",
    "trainer.run()"
   ]
  },
  {
   "cell_type": "markdown",
   "metadata": {},
   "source": [
    "### 学習結果を保存する。\n"
   ]
  },
  {
   "cell_type": "code",
   "execution_count": 26,
   "metadata": {
    "collapsed": true
   },
   "outputs": [],
   "source": [
    "from chainer import serializers\n",
    "\n",
    "model.to_cpu() # CPUで計算できるようにしておく\n",
    "serializers.save_npz(os.path.join(u'result', u'sakamotsu.model'), model)"
   ]
  },
  {
   "cell_type": "markdown",
   "metadata": {},
   "source": [
    "## 学習ログの表示"
   ]
  },
  {
   "cell_type": "code",
   "execution_count": 23,
   "metadata": {
    "scrolled": false
   },
   "outputs": [
    {
     "data": {
      "image/png": "[encoded data removed]",
      "text/plain": [
       "<IPython.core.display.Image object>"
      ]
     },
     "execution_count": 23,
     "metadata": {},
     "output_type": "execute_result"
    }
   ],
   "source": [
    "from IPython.display import Image\n",
    "Image(filename=os.path.join(u'result', u'loss.png'))"
   ]
  },
  {
   "cell_type": "code",
   "execution_count": 24,
   "metadata": {
    "scrolled": true
   },
   "outputs": [
    {
     "data": {
      "image/png": "[encoded data removed]",
      "text/plain": [
       "<IPython.core.display.Image object>"
      ]
     },
     "execution_count": 24,
     "metadata": {},
     "output_type": "execute_result"
    }
   ],
   "source": [
    "from IPython.display import Image\n",
    "Image(filename=os.path.join(u'result', u'accuracy.png'))"
   ]
  },
  {
   "cell_type": "code",
   "execution_count": 27,
   "metadata": {
    "scrolled": true
   },
   "outputs": [
    {
     "name": "stdout",
     "output_type": "stream",
     "text": [
      "-rw-r--r-- 1 moriyama moriyama 139689426  3月  6 07:44 result/sakamotsu.model\r\n"
     ]
    }
   ],
   "source": [
    "# ちゃんと保存されていることを確認\n",
    "%ls -la result/sakamotsu.model"
   ]
  },
  {
   "cell_type": "markdown",
   "metadata": {},
   "source": [
    "## pyファイルの作成"
   ]
  },
  {
   "cell_type": "code",
   "execution_count": 29,
   "metadata": {},
   "outputs": [
    {
     "name": "stdout",
     "output_type": "stream",
     "text": [
      "-rw-r--r-- 1 moriyama moriyama 17202  3月  6 07:45 04_startTrainingSakamotsu_lecture.py\r\n"
     ]
    }
   ],
   "source": [
    "import subprocess\n",
    "subprocess.call(['jupyter', 'nbconvert', '--to', 'python', '04_startTrainingSakamotsu_lecture.ipynb'])\n",
    "%ls -la 04_startTrainingSakamotsu_lecture.py"
   ]
  }
 ],
 "metadata": {
  "kernelspec": {
   "display_name": "Python 2",
   "language": "python",
   "name": "python2"
  },
  "language_info": {
   "codemirror_mode": {
    "name": "ipython",
    "version": 2
   },
   "file_extension": ".py",
   "mimetype": "text/x-python",
   "name": "python",
   "nbconvert_exporter": "python",
   "pygments_lexer": "ipython2",
   "version": "2.7.13"
  },
  "toc": {
   "colors": {
    "hover_highlight": "#DAA520",
    "running_highlight": "#FF0000",
    "selected_highlight": "#FFD700"
   },
   "moveMenuLeft": true,
   "nav_menu": {
    "height": "12px",
    "width": "252px"
   },
   "navigate_menu": true,
   "number_sections": true,
   "sideBar": true,
   "threshold": 4,
   "toc_cell": false,
   "toc_section_display": "block",
   "toc_window_display": false,
   "widenNotebook": false
  }
 },
 "nbformat": 4,
 "nbformat_minor": 2
}
