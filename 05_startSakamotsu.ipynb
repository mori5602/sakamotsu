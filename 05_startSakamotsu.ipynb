{
 "cells": [
  {
   "cell_type": "markdown",
   "metadata": {},
   "source": [
    "# 学習したモデルによる予測\n",
    "---\n",
    "### 利用バージョン\n",
    "python 2 (python 3にしたかったけど、色々環境設定しないといけなさそうなので・・)\n",
    "\n",
    "## 概要\n",
    "ここでは、\n",
    "* リサイズする解像度のサイズ、予測させたい画像ファイルのパス指定\n",
    "* 予測結果の確認\n",
    "\n",
    "といった事をします。"
   ]
  },
  {
   "cell_type": "markdown",
   "metadata": {},
   "source": [
    "## 変数定義\n",
    "* リサイズする解像度をIMG_SIZEにて指定。これは学習時に使用したサイズと合わせる必要があります。\n",
    "* 予測したい画像をFILE_NAMEで指定します。"
   ]
  },
  {
   "cell_type": "code",
   "execution_count": 1,
   "metadata": {
    "collapsed": true
   },
   "outputs": [],
   "source": [
    "IMG_SIZE = 250\n",
    "FILE_NAME = u'IMG_4071.JPG'"
   ]
  },
  {
   "cell_type": "markdown",
   "metadata": {},
   "source": [
    "## 予測スタート"
   ]
  },
  {
   "cell_type": "code",
   "execution_count": 44,
   "metadata": {},
   "outputs": [
    {
     "name": "stdout",
     "output_type": "stream",
     "text": [
      "予測値:1\n",
      "好き(1)の可能性　:58.41%\n",
      "嫌い(0)の可能性　:41.59%\n"
     ]
    }
   ],
   "source": [
    "from PIL import Image\n",
    "from glob import glob\n",
    "import os\n",
    "import numpy as np\n",
    "import pandas as pd\n",
    "import chainer\n",
    "from chainer import datasets\n",
    "from chainer import iterators\n",
    "import chainer.links as L\n",
    "import chainer.functions as F\n",
    "from chainer import optimizers\n",
    "from chainer import training\n",
    "from chainer.training import extensions\n",
    "from chainer import serializers\n",
    "import sys\n",
    "\n",
    "def resizePict(filePathName):\n",
    "    pflag = False\n",
    "    \n",
    "    # 画像ファイルとして開く&リサイズできるか試す\n",
    "    pictFile = Image.open(filePathName)\n",
    "    reSizePictFile = pictFile.resize((IMG_SIZE, IMG_SIZE))\n",
    " \n",
    "    # RGB形式ではない場合、RGB形式に変換する。\n",
    "    if reSizePictFile.mode != 'RGB':\n",
    "        reSizePictFile = reSizePictFile.convert('RGB')\n",
    "\n",
    "    # リサイズしたファイルを出力する。\n",
    "    #outFilePathName = os.path.join(filePath, u'resize_{0}'.format(FILE_NAME))\n",
    "    #reSizePictFile.save(outFilePathName)\n",
    "    \n",
    "    return reSizePictFile\n",
    "\n",
    "def transform(data):\n",
    "    return data / 255.\n",
    "\n",
    "# AIのモデル定義\n",
    "class MLP(chainer.Chain):\n",
    "\n",
    "    def __init__(self, n_mid_units=100, n_out=2):\n",
    "        # パラメータを持つ層の登録\n",
    "        super(MLP, self).__init__(\n",
    "            l1=L.Linear(None, n_mid_units),\n",
    "            l2=L.Linear(None, n_mid_units),\n",
    "            l3=L.Linear(None, n_out),\n",
    "        )\n",
    "\n",
    "    def __call__(self, x):\n",
    "        # データを受け取った際のforward計算を書く\n",
    "        h1 = F.relu(self.l1(x))\n",
    "        h2 = F.relu(self.l2(h1))\n",
    "        return self.l3(h2)\n",
    "    \n",
    "def main():\n",
    "    filePathName = os.path.join(u'dataset', u'04_samplePict', FILE_NAME)\n",
    "    \n",
    "    pictFile = resizePict(filePathName)\n",
    "    \n",
    "    #dataset = datasets.LabeledImageDataset(outFilePathName)\n",
    "    # from IPython.display import Image\n",
    "    # Image(filename=filePathName)\n",
    "    \n",
    "    # PILは(color, x, y)、Chainerは(x, y, color)の並び順にする必要があるため、transposeで変換\n",
    "    # 画素値を255で割り、0〜1の値にする\n",
    "    x = np.asarray(pictFile).transpose(2, 0, 1).astype(np.float32)/255.\n",
    "    \n",
    "    # ミニバッチの形に変換\n",
    "    x = x[None, ...]\n",
    "    \n",
    "    # モデルの定義\n",
    "    model = MLP()\n",
    "    model = L.Classifier(model)\n",
    "    #model.to_gpu(gpu_id)\n",
    "    serializers.load_npz(u'result/sakamotsu.model', model)\n",
    "    t = model.predictor(x)\n",
    "    y = F.softmax(t)\n",
    "    ans = y.data.argmax(axis=1)[0]\n",
    "    print (u'予測値:{}'.format(ans))\n",
    "    print (u'好き(1)の可能性　:{:.2%}'.format(y.data[0][1]))\n",
    "    print (u'嫌い(0)の可能性　:{:.2%}'.format(y.data[0][0]))\n",
    "    \n",
    "if __name__ == '__main__':\n",
    "    main()"
   ]
  }
 ],
 "metadata": {
  "kernelspec": {
   "display_name": "Python 2",
   "language": "python",
   "name": "python2"
  },
  "language_info": {
   "codemirror_mode": {
    "name": "ipython",
    "version": 2
   },
   "file_extension": ".py",
   "mimetype": "text/x-python",
   "name": "python",
   "nbconvert_exporter": "python",
   "pygments_lexer": "ipython2",
   "version": "2.7.13"
  },
  "toc": {
   "colors": {
    "hover_highlight": "#DAA520",
    "running_highlight": "#FF0000",
    "selected_highlight": "#FFD700"
   },
   "moveMenuLeft": true,
   "nav_menu": {
    "height": "12px",
    "width": "252px"
   },
   "navigate_menu": true,
   "number_sections": true,
   "sideBar": true,
   "threshold": 4,
   "toc_cell": false,
   "toc_section_display": "block",
   "toc_window_display": false,
   "widenNotebook": false
  }
 },
 "nbformat": 4,
 "nbformat_minor": 2
}
