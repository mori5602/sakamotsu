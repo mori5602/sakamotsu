{
 "cells": [
  {
   "cell_type": "markdown",
   "metadata": {},
   "source": [
    "# 学習したモデルによる予測\n",
    "---\n",
    "### 利用バージョン\n",
    "python 2 (python 3にしたかったけど、色々環境設定しないといけなさそうなので・・)\n",
    "\n",
    "## 概要\n",
    "ここでは、\n",
    "* リサイズする解像度のサイズ、予測させたい画像ファイルのパス指定\n",
    "* 予測結果の確認\n",
    "\n",
    "といった事をします。"
   ]
  },
  {
   "cell_type": "markdown",
   "metadata": {},
   "source": [
    "## 変数定義\n",
    "* リサイズする解像度をIMG_SIZEにて指定。これは学習時に使用したサイズと合わせる必要があります。\n",
    "* 予測したい画像をFILE_NAMEで指定します。"
   ]
  },
  {
   "cell_type": "code",
   "execution_count": 1,
   "metadata": {
    "collapsed": true
   },
   "outputs": [],
   "source": [
    "IMG_SIZE = 250\n",
    "unit_size = 200\n",
    "FILE_NAME = u'IMG_4071.JPG'"
   ]
  },
  {
   "cell_type": "markdown",
   "metadata": {},
   "source": [
    "## 予測スタート\n",
    "### 画像の読み込み&リサイズ\n",
    "学習時同様、解像度を統一する必要があるため、画像ファイルを取り扱うのに便利なPILをインポートしリサイズします。あとで変換しやすいので、PILのimageオブジェクトとしてpictFile変数を保持します。"
   ]
  },
  {
   "cell_type": "code",
   "execution_count": 2,
   "metadata": {},
   "outputs": [],
   "source": [
    "import os\n",
    "from PIL import Image\n",
    "\n",
    "def resizePict(filePathName):\n",
    "\n",
    "    # 画像ファイルとして開く&リサイズできるか試す\n",
    "    pictFile = Image.open(filePathName)\n",
    "    reSizePictFile = pictFile.resize((IMG_SIZE, IMG_SIZE))\n",
    " \n",
    "    # RGB形式ではない場合、RGB形式に変換する。\n",
    "    if reSizePictFile.mode != 'RGB':\n",
    "        reSizePictFile = reSizePictFile.convert('RGB')\n",
    "    \n",
    "    return reSizePictFile\n",
    "\n",
    "\n",
    "filePathName = os.path.join(u'dataset', u'04_samplePict', FILE_NAME)\n",
    "pictFile = resizePict(filePathName)"
   ]
  },
  {
   "cell_type": "markdown",
   "metadata": {},
   "source": [
    "### 画像データの並び順をChainer形式に変換\n",
    "PILのimageオブジェクトの並び順は(color, x, y)です。一方、Chainerは(x, y, color)の並び順にする必要があるため、transposeで変換します。また、学習時同様、画素値を 255で割り、0〜1の値に変換します。"
   ]
  },
  {
   "cell_type": "code",
   "execution_count": 3,
   "metadata": {},
   "outputs": [
    {
     "data": {
      "text/plain": [
       "(250, 250, 3)"
      ]
     },
     "execution_count": 3,
     "metadata": {},
     "output_type": "execute_result"
    }
   ],
   "source": [
    "import numpy as np\n",
    "\n",
    "#PILのimageオブジェクトの並び順確認\n",
    "np.asanyarray(pictFile).shape"
   ]
  },
  {
   "cell_type": "code",
   "execution_count": 4,
   "metadata": {},
   "outputs": [
    {
     "data": {
      "text/plain": [
       "(3, 250, 250)"
      ]
     },
     "execution_count": 4,
     "metadata": {},
     "output_type": "execute_result"
    }
   ],
   "source": [
    "import numpy as np\n",
    "\n",
    "# PILは(color, x, y)、Chainerは(x, y, color)の並び順にする必要があるため、transposeで変換\n",
    "# 画素値を255で割り、0〜1の値にする\n",
    "x = np.asarray(pictFile).transpose(2, 0, 1).astype(np.float32)/255.\n",
    "x.shape"
   ]
  },
  {
   "cell_type": "markdown",
   "metadata": {},
   "source": [
    "### ミニバッチ形式にデータを微調整\n",
    "学習したモデルはミニバッチ形式なので、データセットとしては(file, color, x , y)といった形式で保持していました。予測時も形式を合わせる必要があるため、一次元増やします。"
   ]
  },
  {
   "cell_type": "code",
   "execution_count": 5,
   "metadata": {},
   "outputs": [
    {
     "data": {
      "text/plain": [
       "(1, 3, 250, 250)"
      ]
     },
     "execution_count": 5,
     "metadata": {},
     "output_type": "execute_result"
    }
   ],
   "source": [
    "# ミニバッチの形に変換\n",
    "x = x[None, ...]\n",
    "x.shape"
   ]
  },
  {
   "cell_type": "markdown",
   "metadata": {},
   "source": [
    "### モデル読み込み\n",
    "学習時に作成したモデルを読み込みます。なお、学習時とモデルは合わせる必要があります。"
   ]
  },
  {
   "cell_type": "code",
   "execution_count": 6,
   "metadata": {},
   "outputs": [],
   "source": [
    "import chainer.links as L\n",
    "import chainer\n",
    "from chainer import serializers\n",
    "\n",
    "class MLP(chainer.Chain):\n",
    "\n",
    "    def __init__(self, n_mid_units=unit_size, n_out=2):\n",
    "        # パラメータを持つ層の登録\n",
    "        super(MLP, self).__init__(\n",
    "            l1=L.Linear(None, n_mid_units),\n",
    "            l2=L.Linear(None, n_mid_units),\n",
    "            l3=L.Linear(None, n_mid_units),\n",
    "            l4=L.Linear(None, n_mid_units),\n",
    "            l5=L.Linear(None, n_out),\n",
    "        )\n",
    "\n",
    "    def __call__(self, x):\n",
    "        # データを受け取った際のforward計算を書く\n",
    "        h1 = F.relu(self.l1(x))\n",
    "        h2 = F.relu(self.l2(h1))\n",
    "        h3 = F.relu(self.l3(h2))\n",
    "        h4 = F.relu(self.l4(h3))\n",
    "        return self.l5(h4)\n",
    "\n",
    "# モデルの定義\n",
    "model = MLP()\n",
    "model = L.Classifier(model)\n",
    "\n",
    "#モデルファイル読み込み\n",
    "serializers.load_npz(u'result/sakamotsu.model', model)"
   ]
  },
  {
   "cell_type": "markdown",
   "metadata": {},
   "source": [
    "### AIによる予測\n",
    "データセットをmode.predictor()に渡して結果を予測させます。L.Classifierを使う場合はpredictor()が必要で、そうでない場合は不要のよう。"
   ]
  },
  {
   "cell_type": "code",
   "execution_count": 7,
   "metadata": {},
   "outputs": [
    {
     "name": "stdout",
     "output_type": "stream",
     "text": [
      "予測値:1\n",
      "好き(1)の可能性　:55.83%\n",
      "嫌い(0)の可能性　:44.17%\n"
     ]
    }
   ],
   "source": [
    "import chainer\n",
    "import chainer.functions as F\n",
    "\n",
    "t = model.predictor(x)\n",
    "y = F.softmax(t)\n",
    "ans = y.data.argmax(axis=1)[0]\n",
    "print (u'予測値:{}'.format(ans))\n",
    "print (u'好き(1)の可能性　:{:.2%}'.format(y.data[0][1]))\n",
    "print (u'嫌い(0)の可能性　:{:.2%}'.format(y.data[0][0]))\n",
    "    "
   ]
  }
 ],
 "metadata": {
  "kernelspec": {
   "display_name": "Python 2",
   "language": "python",
   "name": "python2"
  },
  "language_info": {
   "codemirror_mode": {
    "name": "ipython",
    "version": 2
   },
   "file_extension": ".py",
   "mimetype": "text/x-python",
   "name": "python",
   "nbconvert_exporter": "python",
   "pygments_lexer": "ipython2",
   "version": "2.7.13"
  },
  "toc": {
   "colors": {
    "hover_highlight": "#DAA520",
    "running_highlight": "#FF0000",
    "selected_highlight": "#FFD700"
   },
   "moveMenuLeft": true,
   "nav_menu": {
    "height": "12px",
    "width": "252px"
   },
   "navigate_menu": true,
   "number_sections": true,
   "sideBar": true,
   "threshold": 4,
   "toc_cell": false,
   "toc_section_display": "block",
   "toc_window_display": false,
   "widenNotebook": false
  }
 },
 "nbformat": 4,
 "nbformat_minor": 2
}
