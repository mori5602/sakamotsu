{
 "cells": [
  {
   "cell_type": "markdown",
   "metadata": {},
   "source": [
    "# sakamotsuリコメンド\n",
    "---\n",
    "\n",
    "1〜4, 6はjupyter notebookを使います。\n",
    "\n",
    "## [1. 画像取得](https//:github.com/mori5602/sakamotsu/01_downloadPictureFromYahoo.ipynb)\n",
    "## [2. 画像の解像度統一](https//:github.com/mori5602/sakamotsu/02_reSizePicture.ipynb)\n",
    "## [3. 画像ファイルの増幅](https//:github.com/mori5602/sakamotsu/03_duplicatePictureFile.ipynb)\n",
    "## [4. 学習スタート](https//:github.com/mori5602/sakamotsu/04_startTrainingSakamotsu.ipynb)\n",
    "## 5. 学習を長時間繰り返す  \n",
    "人工知能用のサーバにsshで接続後、screenを使って学習を繰り返し続けて放置します。\n",
    "```\n",
    "screen\n",
    "python 04_startTrainingSakamotsu.py\n",
    "```\n",
    "\n",
    "screenのセッションから抜ける(デタッチ)場合は、以下を実行します。\n",
    "```\n",
    "Ctrl-a d # Ctrlを押しながらa、その後d(Ctrlは離して)\n",
    "```\n",
    "\n",
    "再度、様子を見たい(screenのセッションにアタッチしたい)ときは、以下の通り\n",
    "```\n",
    "screen -ls #セッションを確認する。\n",
    "screen -r <セッション番号>\n",
    "```\n",
    "\n",
    "screenを終了するときは、セッションに以下の通り\n",
    "```\n",
    "Ctrl-a k # Ctrlを押しながらa、 その後k(Ctrlは離して)\n",
    "```\n",
    "\n",
    "## 6. AIの学習結果を試してみる\n"
   ]
  }
 ],
 "metadata": {
  "kernelspec": {
   "display_name": "Python 3",
   "language": "python",
   "name": "python3"
  },
  "language_info": {
   "codemirror_mode": {
    "name": "ipython",
    "version": 3
   },
   "file_extension": ".py",
   "mimetype": "text/x-python",
   "name": "python",
   "nbconvert_exporter": "python",
   "pygments_lexer": "ipython3",
   "version": "3.6.1"
  },
  "toc": {
   "colors": {
    "hover_highlight": "#DAA520",
    "running_highlight": "#FF0000",
    "selected_highlight": "#FFD700"
   },
   "moveMenuLeft": true,
   "nav_menu": {
    "height": "84px",
    "width": "252px"
   },
   "navigate_menu": true,
   "number_sections": true,
   "sideBar": true,
   "threshold": 4,
   "toc_cell": false,
   "toc_section_display": "block",
   "toc_window_display": false,
   "widenNotebook": false
  }
 },
 "nbformat": 4,
 "nbformat_minor": 2
}
